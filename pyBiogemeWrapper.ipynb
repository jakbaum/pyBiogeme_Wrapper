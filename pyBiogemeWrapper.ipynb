{
 "metadata": {
  "name": "",
  "signature": "sha256:f4952f766c64b36d8066652c730a1fd1e5430826a95aebe0ca110dc417f7ff62"
 },
 "nbformat": 3,
 "nbformat_minor": 0,
 "worksheets": [
  {
   "cells": [
    {
     "cell_type": "heading",
     "level": 1,
     "metadata": {},
     "source": [
      "Introduction"
     ]
    },
    {
     "cell_type": "raw",
     "metadata": {},
     "source": [
      "This script was developed while writing a thesis. It can be used to control BIOGEME to run a binary logit model with no attributes of the alternatives. Additionally, the ASC can be automatically adjusted which can used instead of a weighted ESML under certain circumstances (proof in Manski and Lerman 1977, pp. 1982-1985, referenced by Ben-Akiva and Lerman (1985, p. 237)).\n",
      "\n",
      "The following steps are implemented:\n",
      "(1) setup parameters\n",
      "(2) call 'write\\_model\\_py.py' which writes the model.py needed by pythonbiogeme.\n",
      "(3) call pythonbiogeme to run the model\n",
      "(4) adjust the ASC in the output file (in case of a WESML scenario)\n",
      "(5) display the output file in your browser\n",
      "\n",
      "Please have a look into write\\_model\\_py.py to check and change e.g. the model type and various other things biogeme provides which are yet hardcoded in the script."
     ]
    },
    {
     "cell_type": "heading",
     "level": 1,
     "metadata": {},
     "source": [
      "Imports"
     ]
    },
    {
     "cell_type": "code",
     "collapsed": false,
     "input": [
      "from subprocess import call\n",
      "import write_model_py\n",
      "import os\n",
      "from os import listdir, sys\n",
      "from os.path import isfile, join, dirname, realpath\n",
      "import math\n",
      "import fileinput\n",
      "import re\n",
      "import pandas as pd\n",
      "import shutil"
     ],
     "language": "python",
     "metadata": {},
     "outputs": [],
     "prompt_number": 1
    },
    {
     "cell_type": "heading",
     "level": 1,
     "metadata": {},
     "source": [
      "Setup"
     ]
    },
    {
     "cell_type": "code",
     "collapsed": false,
     "input": [
      "''' Change back to project directory \n",
      "    in case python ended up somewhere else '''\n",
      "project_path = os.path.dirname(os.path.realpath(sys.argv[0]))\n",
      "os.chdir(project_path)"
     ],
     "language": "python",
     "metadata": {},
     "outputs": [],
     "prompt_number": 2
    },
    {
     "cell_type": "code",
     "collapsed": false,
     "input": [
      "data = \"daten.dat\" # PATH to data file.\n",
      "seperator = \" \" # seperator in data-file. Usually \" \".\n",
      "browser = \"firefox\" # used to display results"
     ],
     "language": "python",
     "metadata": {},
     "outputs": [],
     "prompt_number": 3
    },
    {
     "cell_type": "code",
     "collapsed": false,
     "input": [
      "\"\"\" Set name of ASC. Default: 'ASC' \"\"\"\n",
      "ASC = \"ASC_CS\""
     ],
     "language": "python",
     "metadata": {},
     "outputs": [],
     "prompt_number": 4
    },
    {
     "cell_type": "heading",
     "level": 1,
     "metadata": {},
     "source": [
      "Parameters"
     ]
    },
    {
     "cell_type": "markdown",
     "metadata": {},
     "source": [
      "Create list called 'pars' filled with parameters. You can define sublists as you like and merge them later.\n",
      "That gives you a lot of flexibility in the model development process.\n",
      "Note: use names specified in the data file."
     ]
    },
    {
     "cell_type": "markdown",
     "metadata": {},
     "source": [
      "<a id='parameters'></a>"
     ]
    },
    {
     "cell_type": "code",
     "collapsed": false,
     "input": [
      "IS_FEMALE = ['IS_FEMALE']\n",
      "EDU = ['EDU_MED', 'EDU_LOW']\n",
      "AGE = ['AGE_YOUNG', 'AGE_MED']\n",
      "WORKEDU = ['WORK_OR_EDU'] \n",
      "OUTHOME = ['OUT_OF_HOME'] \n",
      "HHSIZE = ['HHSIZE']\n",
      "\n",
      "DEMOGRAPHICS = IS_FEMALE  + EDU  + AGE  + WORKEDU  \n",
      "\n",
      "\n",
      "FFCSLOS = ['FFCS_LOS']\n",
      "SBCS = ['SBCS_USER']\n",
      "PT_STATION_MID = ['PT_STATION_RAIL']\n",
      "PT_STATION = ['PT_TRAM', 'PT_HEAVYRAIL']\n",
      "\n",
      "\n",
      "PT_CARD =  ['PT_CARD']\n",
      "PT_MIN = ['PT_MIN']\n",
      "\n",
      "PARKING_2 = ['PARKING_PRESSURE']\n",
      "CAR_AVAIL = ['CAR_AV_SOMETIMES', 'CAR_AV_ALWAYS'] \n",
      "CARSHH = ['CARS_HH_PP']\n",
      "\n",
      "TRANSPORT = PT_STATION_MID\n",
      "\n",
      "ATTITUDES = ['ATT_MODERN_CAR', 'ATT_CONVINCED_OPEN_PT', \n",
      "             'ATT_MODERN_PT', 'ATT_CONVINCED_CAR', 'ATT_CONVINCED_PT']\n",
      "\n",
      "\n",
      "pars = DEMOGRAPHICS + TRANSPORT \n",
      "\n",
      "# name of output_files (version numbers added automatically)\n",
      "output_file = 'predictive'  "
     ],
     "language": "python",
     "metadata": {},
     "outputs": [],
     "prompt_number": 5
    },
    {
     "cell_type": "code",
     "collapsed": false,
     "input": [
      "# define name of CHOICE-variable\n",
      "choice_var = \"FFCS_USER\""
     ],
     "language": "python",
     "metadata": {},
     "outputs": [],
     "prompt_number": 6
    },
    {
     "cell_type": "code",
     "collapsed": false,
     "input": [
      "data_abs = os.path.abspath(data)\n",
      "if seperator is None:\n",
      "    seperator = \" \"\n",
      "df = pd.read_csv(data_abs, sep=seperator)"
     ],
     "language": "python",
     "metadata": {},
     "outputs": [],
     "prompt_number": 7
    },
    {
     "cell_type": "heading",
     "level": 1,
     "metadata": {},
     "source": [
      "Weights and adjustment"
     ]
    },
    {
     "cell_type": "code",
     "collapsed": false,
     "input": [
      "# adjust the ASC in the output file\n",
      "do_adjustment = True"
     ],
     "language": "python",
     "metadata": {},
     "outputs": [],
     "prompt_number": 8
    },
    {
     "cell_type": "code",
     "collapsed": false,
     "input": [
      "# This section is only needed of you want to perform ESML + adjustment of ASC.\n",
      "pop_muc = 1378000\n",
      "driveNow = 46368\n",
      "car2go = 15759\n",
      "real_user = driveNow + car2go\n",
      "\n",
      "real_share = real_user/pop_muc\n",
      "real_nonuser_share =  1 - real_share\n",
      "\n",
      "\n",
      "sample_size = len(df)\n",
      "sample_user = len(df[df.FFCS_USER == 1])\n",
      "\n",
      "sample_share = sample_user/sample_size\n",
      "print(\"sample user share: \" + str(sample_share))\n",
      "sample_nonuser_share = 1 - sample_share\n",
      "\n",
      "\n",
      "weight = real_share/sample_share"
     ],
     "language": "python",
     "metadata": {},
     "outputs": [
      {
       "output_type": "stream",
       "stream": "stdout",
       "text": [
        "sample user share: 0.4997794441993824\n"
       ]
      }
     ],
     "prompt_number": 9
    },
    {
     "cell_type": "code",
     "collapsed": false,
     "input": [
      "''' plug in weight if you want to perform WESML. \n",
      "    Make sure you know what you're doing. \n",
      "    weight = 1 leads to no weighting and is the default.'''\n",
      "weight = 1"
     ],
     "language": "python",
     "metadata": {},
     "outputs": [],
     "prompt_number": 10
    },
    {
     "cell_type": "heading",
     "level": 1,
     "metadata": {},
     "source": [
      "Write model.py"
     ]
    },
    {
     "cell_type": "code",
     "collapsed": false,
     "input": [
      "try:\n",
      "    ASC_I = ASC\n",
      "except NameError:\n",
      "    ASC_I = 'ASC'"
     ],
     "language": "python",
     "metadata": {},
     "outputs": [],
     "prompt_number": 11
    },
    {
     "cell_type": "code",
     "collapsed": false,
     "input": [
      "write_model_py.main(['-o', output_file, '-a', ASC_I,\n",
      "                     '-p', pars, '-c', choice_var, '-w', weight])"
     ],
     "language": "python",
     "metadata": {},
     "outputs": [
      {
       "output_type": "stream",
       "stream": "stdout",
       "text": [
        "Output file:  predictive.py\n",
        "ASC is:  ASC_CS\n",
        "parameters are  ['IS_FEMALE', 'EDU_MED', 'EDU_LOW', 'AGE_YOUNG', 'AGE_MED', 'WORK_OR_EDU', 'PT_STATION_RAIL']\n",
        "choice var is  FFCS_USER\n",
        "Weight is  1\n",
        "Weight calibration is  1.0\n"
       ]
      }
     ],
     "prompt_number": 12
    },
    {
     "cell_type": "heading",
     "level": 1,
     "metadata": {},
     "source": [
      "Run model"
     ]
    },
    {
     "cell_type": "code",
     "collapsed": false,
     "input": [
      "\"\"\" cd, since pythonbiogeme needs to be called from same dir as inputfile \"\"\"\n",
      "\n",
      "check = ''\n",
      "try: \n",
      "    os.chdir(output_file)\n",
      "    pythonbiogeme = [\"pythonbiogeme\", output_file, data_abs]\n",
      "    check = call(pythonbiogeme)\n",
      "except FileNotFoundError as e:\n",
      "    ''' in case pythonbiogeme fails, go back to project path '''\n",
      "    print('Dir not found.\\n', sys.exc_info()[0])\n",
      "    os.chdir(project_path)\n",
      "\n",
      "print(check)\n",
      "print(\"Output generated in: \" + os.getcwd())\n",
      "\n",
      "#Model run was successfull if a \"0\" is displayed below:"
     ],
     "language": "python",
     "metadata": {},
     "outputs": [
      {
       "output_type": "stream",
       "stream": "stdout",
       "text": [
        "0\n",
        "Output generated in: /home/asche/data/Thesis2/JBaum_Thesis_Files/modell/predictive\n"
       ]
      }
     ],
     "prompt_number": 13
    },
    {
     "cell_type": "heading",
     "level": 1,
     "metadata": {},
     "source": [
      "Adjustment of ASCs and Add Confidence Interval"
     ]
    },
    {
     "cell_type": "code",
     "collapsed": false,
     "input": [
      "# Normalization of ASC, when weighting takes place\n",
      "def normalized_asc(c):\n",
      "    \n",
      "    # FIRST STEP\n",
      "    # get ln(Hi/Wi) for user\n",
      "    ln_user = math.log(sample_share / real_share)\n",
      "    # substract from computed asc\n",
      "    c = c-ln_user\n",
      "    \n",
      "    # SECOND STEP\n",
      "    # get ln(Hi/Wi) from nonuser\n",
      "    ln = math.log(sample_nonuser_share / real_nonuser_share)\n",
      "\n",
      "    # Then add this term to the adjusted asc\n",
      "    return c + ln\n",
      "\n",
      "def binary_logit(V):\n",
      "    return (math.e**V)/(math.e**V + 1)\n",
      "\n",
      "def get_latest_html_file():\n",
      "    mypath = \".\"\n",
      "    onlyfiles = [ f for f in listdir(mypath) if isfile(join(mypath,f)) ]\n",
      "    htmls = []\n",
      "    for item in onlyfiles:\n",
      "        if (item.startswith(output_file) & item.endswith(\"html\")):\n",
      "            htmls.append(item)\n",
      "    if len(htmls) > 1: #get latest model version\n",
      "        i = 0\n",
      "        for s in htmls:\n",
      "            k = re.findall('\\d+', s)\n",
      "            if(len(k) > 0):\n",
      "                j = int(k[-1])\n",
      "            else:\n",
      "                j = 0\n",
      "            if j>i:\n",
      "                i = j\n",
      "        \n",
      "        ret = output_file+ \"~\" + str(i) + \".html\"\n",
      "        print(ret)\n",
      "        return ret\n",
      "    else:\n",
      "        ret = output_file + \".html\"\n",
      "        print(ret)\n",
      "        return ret\n",
      "\n",
      "def add_two_header_columns(line,str1,str2):\n",
      "    line = line[:-6]\n",
      "    line += \"<th>\"+str1+\"</th><th>\"+str2+\"</th></tr>\"\n",
      "    return line\n",
      "\n",
      "def add_two_columns(line,str1,str2):\n",
      "    line = line[:-6]\n",
      "    line += \"<td>\"+str1+\"</td><td>\"+str2+\"</td></tr>\"\n",
      "    return line\n",
      "    \n",
      "def add_confidence_interval(line):\n",
      "    lineList = line.split(\"</td><td>\")\n",
      "    beta = float(lineList[1])\n",
      "    std = float(lineList[6])\n",
      "    confidence = 1.96\n",
      "    line = add_two_columns(line, \"{0:.4f}\".format(beta-confidence*std),\n",
      "                           \"{0:.4f}\".format(beta+confidence*std))\n",
      "    return line\n",
      "\n",
      "def get_list_of_floats(s):\n",
      "    return re.findall(r\"[-+]?\\d*\\.\\d+|\\d+\",s)\n",
      "\n",
      "def aic(number_pars,loglikelihood):\n",
      "    ''' Takes number of pars and maximum log likelihood of model\n",
      "        and returns AIC value '''\n",
      "    return (2*number_pars-2*loglikelihood)"
     ],
     "language": "python",
     "metadata": {},
     "outputs": [],
     "prompt_number": 14
    },
    {
     "cell_type": "code",
     "collapsed": false,
     "input": [
      "\n",
      "    \n",
      "if (do_adjustment or weight != 1.0):\n",
      "    print(\"Normalize ASCs\")\n",
      "    fname = get_latest_html_file()\n",
      "    #with open(fname, 'r+') as f:\n",
      "    counter = 0\n",
      "    \n",
      "    try:\n",
      "        already_adjusted = False\n",
      "        done = False\n",
      "        \n",
      "        with open(fname, \"r\") as f:\n",
      "            for line in f:\n",
      "                if (line.startswith(\"BIOGEME output was: \")): \n",
      "                    sys.stderr.write(\"Already adjusted\")\n",
      "                    already_adjusted = True\n",
      "                \n",
      "                if(line.startswith(\"<tr class=biostyle><td align=right ><strong>Number of estimated parameters\")):\n",
      "                    lineList = line.split(\"</td> <td>\")\n",
      "                    #+ 1 for error term\n",
      "                    estimatedparameters = float(''.join(c for c in lineList[1] if c.isdigit())) + 1 \n",
      "\n",
      "                if(line.startswith(\"<tr class=biostyle><td align=right><strong>Final log-likelihood\")):\n",
      "                    lineList = line.split(\"</td> <td>\")\n",
      "                    loglikelihood = float(get_list_of_floats(lineList[1])[0])\n",
      "                    \n",
      "        \n",
      "        if not already_adjusted:\n",
      "            for line in fileinput.input(fname, inplace=True):\n",
      "                if (done==False):\n",
      "                    \n",
      "                    if (line.startswith(\"<tr class=biostyle><th>Name\")):\n",
      "                        line = add_two_header_columns(line, \"Low\", \"High\")\n",
      "                        print(line)\n",
      "\n",
      "                    elif (line.startswith(\"<td>B_\")):\n",
      "                        line = add_confidence_interval(line)\n",
      "                        print(line,)\n",
      "\n",
      "                    elif (line.startswith(\"<td>\"+ASC_I+\"</td>\") and counter == 0):\n",
      "                        lineList = line.split(\"</td><td>\")\n",
      "                        asc = float(lineList[1])\n",
      "                        norm = normalized_asc(asc)\n",
      "                        normalized = \"%0.2f\" % (norm,)\n",
      "\n",
      "                        sys.stderr.write(\"ASC normalized: \"+normalized)\n",
      "\n",
      "                        prob = \"%0.4f\" % (binary_logit(norm))\n",
      "                       \n",
      "                        print(\"BIOGEME output was: \" + str(asc) + \"; AIC = \"\n",
      "                              + str(aic(estimatedparameters, loglikelihood)))\n",
      "                        \n",
      "                        l = line.replace(lineList[1], normalized)                    \n",
      "                        l = add_confidence_interval(l)\n",
      "                        print (l,)\n",
      "\n",
      "                        counter = counter + 1\n",
      "\n",
      "                    elif (line.startswith(\"<h2>Correlation of coefficients</h2>\")):\n",
      "                        done = True\n",
      "                    else:\n",
      "                        print(line,)\n",
      "                    \n",
      "                else:\n",
      "                    print(line,)\n",
      "    finally:\n",
      "        fileinput.close()"
     ],
     "language": "python",
     "metadata": {},
     "outputs": [
      {
       "output_type": "stream",
       "stream": "stdout",
       "text": [
        "Normalize ASCs\n",
        "predictive~16.html\n"
       ]
      },
      {
       "output_type": "stream",
       "stream": "stderr",
       "text": [
        "ASC normalized: -6.90"
       ]
      }
     ],
     "prompt_number": 15
    },
    {
     "cell_type": "heading",
     "level": 1,
     "metadata": {},
     "source": [
      "Print AIC"
     ]
    },
    {
     "cell_type": "code",
     "collapsed": false,
     "input": [
      "print(aic(estimatedparameters, loglikelihood))"
     ],
     "language": "python",
     "metadata": {},
     "outputs": [
      {
       "output_type": "stream",
       "stream": "stdout",
       "text": [
        "2213.886\n"
       ]
      }
     ],
     "prompt_number": 16
    },
    {
     "cell_type": "heading",
     "level": 1,
     "metadata": {},
     "source": [
      "Display Output"
     ]
    },
    {
     "cell_type": "markdown",
     "metadata": {},
     "source": [
      "[Back to Parameters-Cell](#parameters)"
     ]
    },
    {
     "cell_type": "code",
     "collapsed": false,
     "input": [
      "\"\"\" change dir back to project dir \"\"\"\n",
      "os.chdir(project_path)"
     ],
     "language": "python",
     "metadata": {},
     "outputs": [],
     "prompt_number": 17
    },
    {
     "cell_type": "code",
     "collapsed": false,
     "input": [
      "openLatestOutput = [browser, os.path.join(output_file,fname)]\n",
      "call(openLatestOutput)"
     ],
     "language": "python",
     "metadata": {},
     "outputs": [
      {
       "metadata": {},
       "output_type": "pyout",
       "prompt_number": 18,
       "text": [
        "0"
       ]
      }
     ],
     "prompt_number": 18
    },
    {
     "cell_type": "markdown",
     "metadata": {},
     "source": [
      "[Back to Parameters-Cell](#parameters)"
     ]
    }
   ],
   "metadata": {}
  }
 ]
}