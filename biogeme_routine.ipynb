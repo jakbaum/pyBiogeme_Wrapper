{
 "metadata": {
  "name": "",
  "signature": "sha256:39e69f147d57ef3ce6c8be78e0574e32bc504b02efff841c56d13c38afdc69aa"
 },
 "nbformat": 3,
 "nbformat_minor": 0,
 "worksheets": [
  {
   "cells": [
    {
     "cell_type": "heading",
     "level": 2,
     "metadata": {},
     "source": [
      "Introduction"
     ]
    },
    {
     "cell_type": "raw",
     "metadata": {},
     "source": [
      "This script was developed while writing a thesis. It can be used to control BIOGEME to run a binary logit model with no attributes of the alternatives. Additionally, the ASC can be automatically adjusted which can used instead of a weighted ESML under certain circumstances (proof in Manski and Lerman 1977, pp. 1982-1985, referenced by Ben-Akiva and Lerman (1985, p. 237)).\n",
      "\n",
      "The following steps are implemented:\n",
      "(1) setup parameters\n",
      "(2) call write_model_py.py which writes the model.py needed by pythonbiogeme.\n",
      "(3) call pythonbiogeme to run the model\n",
      "(4) adjust the ASC in the output file (in case of a WESML scenario)\n",
      "(5) display the output file in your browser\n",
      "\n",
      "Please have a look into write_model_py.py to check and change e.g. the model type and various other things biogeme provides which are yet hardcoded in the script."
     ]
    },
    {
     "cell_type": "code",
     "collapsed": false,
     "input": [
      "from subprocess import call\n",
      "import write_model_py\n",
      "import os\n",
      "from os import listdir, sys\n",
      "from os.path import isfile, join\n",
      "import math\n",
      "import fileinput\n",
      "import re\n",
      "import pandas as pd\n",
      "import shutil"
     ],
     "language": "python",
     "metadata": {},
     "outputs": [],
     "prompt_number": 14
    },
    {
     "cell_type": "heading",
     "level": 2,
     "metadata": {},
     "source": [
      "Setup"
     ]
    },
    {
     "cell_type": "code",
     "collapsed": false,
     "input": [
      "data = \"daten.dat\" # PATH to data file.\n",
      "seperator = \" \"\n",
      "output_file = \"new_modell\" # name of output_files (version numbers added automatically)\n",
      "browser = \"firefox\" # used to display results"
     ],
     "language": "python",
     "metadata": {},
     "outputs": [],
     "prompt_number": 15
    },
    {
     "cell_type": "heading",
     "level": 2,
     "metadata": {},
     "source": [
      "Parameters"
     ]
    },
    {
     "cell_type": "code",
     "collapsed": false,
     "input": [
      "# Create list called 'pars' filled with parameters. You can define sublists as you like and merge them later.\n",
      "# That gives you a lot of flexibility in the model development process.\n",
      "# Note: use names specified in the data file.\n",
      "\n",
      "EDU = ['EDU_MED', 'EDU_LOW']\n",
      "AGE = ['AGE_YOUNG', 'AGE_MED']\n",
      "DEMOGRAPHICS = ['IS_FEMALE', 'WORK_OR_EDU'] + EDU + AGE\n",
      "\n",
      "# don't forget this:\n",
      "pars = EDU + AGE"
     ],
     "language": "python",
     "metadata": {},
     "outputs": [],
     "prompt_number": 16
    },
    {
     "cell_type": "code",
     "collapsed": false,
     "input": [
      "# define name of CHOICE-variable\n",
      "choice_var = \"FFCS_USER\""
     ],
     "language": "python",
     "metadata": {},
     "outputs": [],
     "prompt_number": 17
    },
    {
     "cell_type": "code",
     "collapsed": false,
     "input": [
      "data_abs = os.path.abspath(data)\n",
      "df = pd.read_csv(data_abs, sep=seperator)"
     ],
     "language": "python",
     "metadata": {},
     "outputs": [],
     "prompt_number": 18
    },
    {
     "cell_type": "heading",
     "level": 2,
     "metadata": {},
     "source": [
      "Weights and adjustment"
     ]
    },
    {
     "cell_type": "code",
     "collapsed": false,
     "input": [
      "# adjust the ASC in the output file\n",
      "do_adjustment = True"
     ],
     "language": "python",
     "metadata": {},
     "outputs": [],
     "prompt_number": 19
    },
    {
     "cell_type": "code",
     "collapsed": false,
     "input": [
      "# This section is only needed of you want to perform ESML + adjustment of ASC.\n",
      "pop_muc = 1378000\n",
      "driveNow = 46368\n",
      "car2go = 15759\n",
      "real_user = driveNow + car2go\n",
      "\n",
      "real_share = real_user/pop_muc\n",
      "real_nonuser_share =  1 - real_share\n",
      "\n",
      "\n",
      "sample_size = len(df)\n",
      "sample_user = len(df[df.FFCS_USER == 1])\n",
      "\n",
      "sample_share = sample_user/sample_size\n",
      "print(\"sample user share: \" + str(sample_share))\n",
      "sample_nonuser_share = 1 - sample_share\n",
      "\n",
      "\n",
      "weight = real_share/sample_share"
     ],
     "language": "python",
     "metadata": {},
     "outputs": [
      {
       "output_type": "stream",
       "stream": "stdout",
       "text": [
        "sample user share: 0.517488411293721\n"
       ]
      }
     ],
     "prompt_number": 20
    },
    {
     "cell_type": "code",
     "collapsed": false,
     "input": [
      "# plug in weight if you want to perform WESML. Make sure you know what you're doing. \n",
      "# weight = 1 leads to no weighting and is the default.\n",
      "weight = 1"
     ],
     "language": "python",
     "metadata": {},
     "outputs": [],
     "prompt_number": 21
    },
    {
     "cell_type": "heading",
     "level": 2,
     "metadata": {},
     "source": [
      "Write model.py"
     ]
    },
    {
     "cell_type": "code",
     "collapsed": false,
     "input": [
      "write_model_py.main(['-o', output_file, '-p', pars, '-c', choice_var, '-w', weight])"
     ],
     "language": "python",
     "metadata": {},
     "outputs": [
      {
       "output_type": "stream",
       "stream": "stdout",
       "text": [
        "Output file:  new_modell.py\n",
        "parameters are  ['EDU_MED', 'EDU_LOW', 'AGE_YOUNG', 'AGE_MED']\n",
        "choice var is  FFCS_USER\n",
        "Weight is  1\n",
        "Weight calibration is  1.0\n"
       ]
      }
     ],
     "prompt_number": 22
    },
    {
     "cell_type": "heading",
     "level": 2,
     "metadata": {},
     "source": [
      "Run model"
     ]
    },
    {
     "cell_type": "code",
     "collapsed": false,
     "input": [
      "# cd, since pythonbiogeme needs to be called from same dir as inputfile\n",
      "#data_path = os.path.abspath(data)\n",
      "os.chdir(output_file)\n",
      "pythonbiogeme = [\"pythonbiogeme\", output_file, data_abs]\n",
      "call(pythonbiogeme)\n",
      "\n",
      "# Model run was successfull if a \"0\" is displayed below: "
     ],
     "language": "python",
     "metadata": {},
     "outputs": [
      {
       "metadata": {},
       "output_type": "pyout",
       "prompt_number": 23,
       "text": [
        "0"
       ]
      }
     ],
     "prompt_number": 23
    },
    {
     "cell_type": "heading",
     "level": 2,
     "metadata": {},
     "source": [
      "Adjustment of ASCs"
     ]
    },
    {
     "cell_type": "code",
     "collapsed": false,
     "input": [
      "# This section manipulates the output file in case an adjustement of the ASC is wanted.\n",
      "\n",
      "\n",
      "# Normalization of ASC according to Ben-Akiva and Lerman (1985, p. 237), when weighting is wanted\n",
      "def normalized_asc(c):\n",
      "    \n",
      "    # FIRST STEP\n",
      "    # get ln(Hi/Wi) for user\n",
      "    ln_user = math.log(sample_share / real_share)\n",
      "    # substract from computed asc\n",
      "    c = c-ln_user\n",
      "    \n",
      "    # SECOND STEP\n",
      "    # get ln(Hi/Wi) from nonuser\n",
      "    ln = math.log(sample_nonuser_share / real_nonuser_share)\n",
      "\n",
      "    # Then add this term to the adjusted asc\n",
      "    return c + ln\n",
      "\n",
      "# function to calculate the probability that random person choose respective alternative.\n",
      "def binary_logit(V):\n",
      "    return (math.e**V)/(math.e**V + 1)\n",
      "\n",
      "\n",
      "def get_latest_html_file():\n",
      "    mypath = \".\"\n",
      "    onlyfiles = [ f for f in listdir(mypath) if isfile(join(mypath,f)) ]\n",
      "    htmls = []\n",
      "    for item in onlyfiles:\n",
      "        if (item.startswith(output_file) & item.endswith(\"html\")):\n",
      "            htmls.append(item)\n",
      "    if len(htmls) > 1: #get latest model version\n",
      "        i = 0\n",
      "        for s in htmls:\n",
      "            k = re.findall('\\d+', s)\n",
      "            if(len(k) > 0):\n",
      "                j = int(k[-1])\n",
      "            else:\n",
      "                j = 0\n",
      "            if j>i:\n",
      "                i = j\n",
      "        \n",
      "        ret = output_file+ \"~\" + str(i) + \".html\"\n",
      "        print(ret)\n",
      "        return ret\n",
      "    else:\n",
      "        ret = output_file + \".html\"\n",
      "        print(ret)\n",
      "        return ret\n",
      "\n",
      "\n",
      "    \n",
      "if (do_adjustment or weight != 1.0):\n",
      "    print(\"Normalize ASC\")\n",
      "    fname = get_latest_html_file()\n",
      "    #with open(fname, 'r+') as f:\n",
      "    counter = 0\n",
      "    \n",
      "    try:\n",
      "        already_adjusted = False\n",
      "        \n",
      "        with open(fname, \"r\") as f:\n",
      "            for line in f:\n",
      "                if (line.startswith(\"BIOGEME output was: \")): \n",
      "                    sys.stderr.write(\"Already adjusted\")\n",
      "                    already_adjusted = True\n",
      "        \n",
      "        if not already_adjusted:\n",
      "            for line in fileinput.input(fname, inplace=True):\n",
      "                if (line.startswith(\"<td>ASC</td>\") and counter == 0):\n",
      "                    lineList = line.split(\"</td><td>\")\n",
      "                    asc = float(lineList[1])\n",
      "                    norm = normalized_asc(asc)\n",
      "                    normalized = \"%0.2f\" % (norm,)\n",
      "\n",
      "                    sys.stderr.write(\"ASC before: \"+str(asc)+\"\\n\")\n",
      "                    sys.stderr.write(\"ASC normalized: \"+normalized)\n",
      "\n",
      "                    prob = \"%0.4f\" % (binary_logit(norm))\n",
      "\n",
      "                    print(\"BIOGEME output of the ASC was: \" + str(asc)+\"</p>\")\n",
      "                    l = line.replace(lineList[1], normalized)\n",
      "                    print (l,)\n",
      "\n",
      "                    counter = counter + 1\n",
      "\n",
      "\n",
      "                else:\n",
      "                    print(line,)\n",
      "    finally:\n",
      "        fileinput.close()"
     ],
     "language": "python",
     "metadata": {},
     "outputs": [
      {
       "output_type": "stream",
       "stream": "stdout",
       "text": [
        "Normalize ASC\n",
        "new_modell~1.html\n"
       ]
      },
      {
       "output_type": "stream",
       "stream": "stderr",
       "text": [
        "ASC before: -3.72\n",
        "ASC normalized: -6.84"
       ]
      }
     ],
     "prompt_number": 24
    },
    {
     "cell_type": "code",
     "collapsed": false,
     "input": [],
     "language": "python",
     "metadata": {},
     "outputs": [],
     "prompt_number": 24
    },
    {
     "cell_type": "heading",
     "level": 2,
     "metadata": {},
     "source": [
      "Display output"
     ]
    },
    {
     "cell_type": "code",
     "collapsed": false,
     "input": [
      "openLatestOutput = [\"firefox\", fname]\n",
      "call(openLatestOutput)"
     ],
     "language": "python",
     "metadata": {},
     "outputs": [
      {
       "metadata": {},
       "output_type": "pyout",
       "prompt_number": 25,
       "text": [
        "0"
       ]
      }
     ],
     "prompt_number": 25
    },
    {
     "cell_type": "code",
     "collapsed": false,
     "input": [
      "# change dir back to parent\n",
      "os.chdir(os.pardir)"
     ],
     "language": "python",
     "metadata": {},
     "outputs": [],
     "prompt_number": 26
    },
    {
     "cell_type": "code",
     "collapsed": false,
     "input": [],
     "language": "python",
     "metadata": {},
     "outputs": [],
     "prompt_number": 26
    },
    {
     "cell_type": "code",
     "collapsed": false,
     "input": [],
     "language": "python",
     "metadata": {},
     "outputs": [],
     "prompt_number": 26
    },
    {
     "cell_type": "code",
     "collapsed": false,
     "input": [],
     "language": "python",
     "metadata": {},
     "outputs": [],
     "prompt_number": 26
    }
   ],
   "metadata": {}
  }
 ]
}